{
 "cells": [
  {
   "cell_type": "markdown",
   "metadata": {},
   "source": [
    "# Etots Data Mining"
   ]
  },
  {
   "cell_type": "markdown",
   "metadata": {},
   "source": [
    "## Import Libraries"
   ]
  },
  {
   "cell_type": "code",
   "execution_count": 23,
   "metadata": {},
   "outputs": [],
   "source": [
    "import xgboost as xgb\n",
    "import pandas as pd\n",
    "import numpy as np\n",
    "import matplotlib as plt\n",
    "from sklearn.preprocessing import OneHotEncoder\n",
    "from numpy.random import seed\n",
    "seed(2)\n",
    "#from tensorflow import set_random_seed\n",
    "#set_random_seed(2)\n",
    "import tensorflow as tf\n",
    "from tensorflow import keras\n",
    "from IPython import display\n",
    "from matplotlib import cm\n",
    "from matplotlib import gridspec\n",
    "from matplotlib import pyplot as plt\n",
    "import numpy as np\n",
    "import pandas as pd\n",
    "from tensorflow.python.data import Dataset\n",
    "from sklearn import preprocessing\n",
    "from sklearn.preprocessing import StandardScaler\n",
    "from sklearn.model_selection import train_test_split\n",
    "from sklearn.preprocessing import LabelBinarizer\n",
    "from sklearn.preprocessing import MinMaxScaler\n",
    "from sklearn.preprocessing import OneHotEncoder\n",
    "from xgboost import XGBClassifier\n",
    "from sklearn.metrics import accuracy_score\n",
    "from sklearn.utils import resample\n"
   ]
  },
  {
   "cell_type": "markdown",
   "metadata": {},
   "source": [
    "## Import data"
   ]
  },
  {
   "cell_type": "code",
   "execution_count": 2,
   "metadata": {},
   "outputs": [],
   "source": [
    "data = pd.read_csv(\"etots_training.csv\")"
   ]
  },
  {
   "cell_type": "code",
   "execution_count": 3,
   "metadata": {},
   "outputs": [
    {
     "data": {
      "text/plain": [
       "\"      'J_9712',\\n      'J_9801',\\n      'J_9802' ,\\n      'J_9803' ,\\n      'J_9804' ,\\n      'J_9805' ,\\n      'J_9806' ,\\n      'J_9807' ,\\n      'J_9808',\\n      'J_9809' ,\\n      'J_9810' ,\\n      'J_9811' ,\\n      'J_9812' ,\\n      'J_9901',\\n      'J_9902' ,\\n      'J_9903' ,\\n      'J_9904' ,\\n      'J_9905' ,\\n      'J_9906' ,\\n      'J_9907' ,\\n      'J_9908\""
      ]
     },
     "execution_count": 3,
     "metadata": {},
     "output_type": "execute_result"
    }
   ],
   "source": [
    "cat = ['Self',\n",
    "      'Gift', \n",
    "      'J_9711', ]\n",
    "\n",
    "cont = ['S_99HOL',\n",
    "        'M_VAL99H',\n",
    "        'S_00OFF',\n",
    "        'S_IDX',\n",
    "        'N_S_INDX',\n",
    "        'TENURE']\n",
    "\n",
    "'''      'J_9712',\n",
    "      'J_9801',\n",
    "      'J_9802' ,\n",
    "      'J_9803' ,\n",
    "      'J_9804' ,\n",
    "      'J_9805' ,\n",
    "      'J_9806' ,\n",
    "      'J_9807' ,\n",
    "      'J_9808',\n",
    "      'J_9809' ,\n",
    "      'J_9810' ,\n",
    "      'J_9811' ,\n",
    "      'J_9812' ,\n",
    "      'J_9901',\n",
    "      'J_9902' ,\n",
    "      'J_9903' ,\n",
    "      'J_9904' ,\n",
    "      'J_9905' ,\n",
    "      'J_9906' ,\n",
    "      'J_9907' ,\n",
    "      'J_9908'''"
   ]
  },
  {
   "cell_type": "code",
   "execution_count": 4,
   "metadata": {},
   "outputs": [],
   "source": [
    "# separate majority and minority classes\n",
    "majority = data[data.HOL_REP == 0]\n",
    "minority = data[data.HOL_REP == 1]\n",
    "\n",
    "# upsample minority class\n",
    "minority_upsampled = resample(minority, replace = True , n_samples = 20000, random_state = 123)\n",
    "\n",
    "# combine upsampled data set with majority class\n",
    "data = pd.concat([majority, minority_upsampled], ignore_index=True)"
   ]
  },
  {
   "cell_type": "code",
   "execution_count": 5,
   "metadata": {},
   "outputs": [],
   "source": [
    "data = data.reindex(np.random.permutation(data.index))"
   ]
  },
  {
   "cell_type": "markdown",
   "metadata": {},
   "source": [
    "## Preprocess"
   ]
  },
  {
   "cell_type": "code",
   "execution_count": 6,
   "metadata": {},
   "outputs": [],
   "source": [
    "def preprocess_features(data, cont_features, cat_features):\n",
    "    import pandas as pd\n",
    "    \"\"\"Prepares input features from concrete slump test data set.\n",
    "\n",
    "      Args:\n",
    "        concrete_dataframe: A Pandas DataFrame expected to contain data\n",
    "      from the concrete slump test dataset.\n",
    "      Returns:\n",
    "        A DataFrame that contains the features to be used for the model. \n",
    "      \"\"\"\n",
    "    # scale training continuous data\n",
    "    scaler = StandardScaler().fit(data[cont_features].values)\n",
    "\n",
    "    scaledf = scaler.transform(data[cont_features].values)\n",
    "\n",
    "    cont_data = pd.DataFrame(scaledf, index=data[cont_features].index, columns=data[cont_features].columns)\n",
    "\n",
    "    #processed_features = cont_features.copy()\n",
    "    \n",
    "    # scale categorical data\n",
    "    cat_data = pd.get_dummies(data[cat_features])\n",
    "        \n",
    "    processed_features = pd.concat([cont_data, cat_data], axis=1)\n",
    "    \n",
    "    #selected_features.copy()\n",
    "  \n",
    "    return processed_features\n",
    "\n",
    "def preprocess_targets(data):\n",
    "   \n",
    "    output_targets = data.iloc[:,0]\n",
    "    return output_targets"
   ]
  },
  {
   "cell_type": "markdown",
   "metadata": {},
   "source": [
    "## Split train/validation"
   ]
  },
  {
   "cell_type": "code",
   "execution_count": 7,
   "metadata": {},
   "outputs": [],
   "source": [
    "# Choose the first 20,000 examples for training.\n",
    "training_examples = preprocess_features(data.head(20000), cont, cat)\n",
    "training_targets = preprocess_targets(data.head(20000))\n",
    "\n",
    "validation_examples = preprocess_features(data.tail(20000), cont, cat)\n",
    "validation_targets = preprocess_targets(data.tail(20000))"
   ]
  },
  {
   "cell_type": "code",
   "execution_count": 8,
   "metadata": {},
   "outputs": [
    {
     "data": {
      "text/plain": [
       "0    10009\n",
       "1     9991\n",
       "Name: HOL_REP, dtype: int64"
      ]
     },
     "execution_count": 8,
     "metadata": {},
     "output_type": "execute_result"
    }
   ],
   "source": [
    "validation_targets.value_counts()"
   ]
  },
  {
   "cell_type": "code",
   "execution_count": 9,
   "metadata": {},
   "outputs": [
    {
     "data": {
      "text/plain": [
       "XGBClassifier(base_score=0.5, booster='gbtree', colsample_bylevel=1,\n",
       "              colsample_bynode=1, colsample_bytree=1, gamma=0,\n",
       "              learning_rate=0.1, max_delta_step=0, max_depth=3,\n",
       "              min_child_weight=1, missing=None, n_estimators=100, n_jobs=1,\n",
       "              nthread=None, objective='binary:logistic', random_state=0,\n",
       "              reg_alpha=0, reg_lambda=1, scale_pos_weight=1, seed=None,\n",
       "              silent=None, subsample=1, verbosity=1)"
      ]
     },
     "execution_count": 9,
     "metadata": {},
     "output_type": "execute_result"
    }
   ],
   "source": [
    "# fit model no training data\n",
    "model = XGBClassifier()\n",
    "model.fit(training_examples, training_targets)"
   ]
  },
  {
   "cell_type": "code",
   "execution_count": 10,
   "metadata": {},
   "outputs": [],
   "source": [
    "# make predictions for test data\n",
    "y_pred = model.predict(validation_examples)\n",
    "\n",
    "predictions = [round(value) for value in y_pred]"
   ]
  },
  {
   "cell_type": "code",
   "execution_count": 11,
   "metadata": {},
   "outputs": [
    {
     "name": "stdout",
     "output_type": "stream",
     "text": [
      "Accuracy: 74.19%\n"
     ]
    }
   ],
   "source": [
    "accuracy = accuracy_score(validation_targets, predictions)\n",
    "print(\"Accuracy: %.2f%%\" % (accuracy * 100.0))"
   ]
  },
  {
   "cell_type": "markdown",
   "metadata": {},
   "source": [
    "## Down sample to improve accuracy"
   ]
  },
  {
   "cell_type": "code",
   "execution_count": 12,
   "metadata": {},
   "outputs": [
    {
     "data": {
      "text/plain": [
       "1    10009\n",
       "0     9991\n",
       "Name: HOL_REP, dtype: int64"
      ]
     },
     "execution_count": 12,
     "metadata": {},
     "output_type": "execute_result"
    }
   ],
   "source": [
    "training_targets.value_counts()"
   ]
  },
  {
   "cell_type": "markdown",
   "metadata": {},
   "source": [
    "# Deep Learning model"
   ]
  },
  {
   "cell_type": "code",
   "execution_count": 15,
   "metadata": {},
   "outputs": [],
   "source": [
    "from numpy.random import seed\n",
    "seed(2)\n",
    "#from tensorflow import set_random_seed\n",
    "#set_random_seed(2)\n",
    "import tensorflow as tf\n",
    "from IPython import display\n",
    "from matplotlib import cm\n",
    "from matplotlib import gridspec\n",
    "from matplotlib import pyplot as plt\n",
    "import numpy as np\n",
    "import pandas as pd\n",
    "from tensorflow.python.data import Dataset\n",
    "from sklearn import preprocessing\n",
    "from sklearn.preprocessing import StandardScaler\n",
    "from sklearn.model_selection import train_test_split\n",
    "from sklearn.preprocessing import LabelBinarizer\n",
    "from sklearn.preprocessing import MinMaxScaler\n",
    "from sklearn.preprocessing import OneHotEncoder"
   ]
  },
  {
   "cell_type": "code",
   "execution_count": 16,
   "metadata": {},
   "outputs": [],
   "source": [
    "# Choose the first 20,000 examples for training.\n",
    "training_examples = preprocess_features(data.head(20000), cont, cat)\n",
    "training_targets = preprocess_targets(data.head(20000))\n",
    "\n",
    "validation_examples = preprocess_features(data.tail(20000), cont, cat)\n",
    "validation_targets = preprocess_targets(data.tail(20000))\n"
   ]
  },
  {
   "cell_type": "markdown",
   "metadata": {},
   "source": [
    "## Build Model"
   ]
  },
  {
   "cell_type": "code",
   "execution_count": 34,
   "metadata": {},
   "outputs": [
    {
     "name": "stdout",
     "output_type": "stream",
     "text": [
      "Model: \"sequential_2\"\n",
      "_________________________________________________________________\n",
      "Layer (type)                 Output Shape              Param #   \n",
      "=================================================================\n",
      "dense_6 (Dense)              (None, 25)                250       \n",
      "_________________________________________________________________\n",
      "dense_7 (Dense)              (None, 25)                650       \n",
      "_________________________________________________________________\n",
      "dense_8 (Dense)              (None, 1)                 26        \n",
      "=================================================================\n",
      "Total params: 926\n",
      "Trainable params: 926\n",
      "Non-trainable params: 0\n",
      "_________________________________________________________________\n"
     ]
    }
   ],
   "source": [
    "baseline_model = keras.Sequential([\n",
    "    keras.layers.Dense(25, activation=tf.nn.relu,input_shape=(training_examples.shape[1],)),\n",
    "    keras.layers.Dense(25, activation=tf.nn.relu,),keras.layers.Dense(1)\n",
    "\n",
    "  ])\n",
    "\n",
    "baseline_model.compile(optimizer= 'Adam',\n",
    "              loss='binary_crossentropy',\n",
    "              metrics=['accuracy'])\n",
    "\n",
    "baseline_model.summary()"
   ]
  },
  {
   "cell_type": "markdown",
   "metadata": {},
   "source": [
    "## Fit model"
   ]
  },
  {
   "cell_type": "code",
   "execution_count": 35,
   "metadata": {},
   "outputs": [
    {
     "name": "stdout",
     "output_type": "stream",
     "text": [
      "WARNING:tensorflow:Falling back from v2 loop because of error: Failed to find data adapter that can handle input: <class 'pandas.core.frame.DataFrame'>, <class 'NoneType'>\n",
      "\n",
      "..............."
     ]
    }
   ],
   "source": [
    "class PrintDot(keras.callbacks.Callback):\n",
    "  def on_epoch_end(self, epoch, logs):\n",
    "    if epoch % 100 == 0: print('')\n",
    "    print('.', end='')\n",
    "\n",
    "EPOCHS = 15\n",
    "b_history = baseline_model.fit(training_examples, training_targets, epochs=EPOCHS,\n",
    "                    validation_data= (validation_examples, validation_targets), verbose=0,\n",
    "                    callbacks=[PrintDot()])"
   ]
  },
  {
   "cell_type": "code",
   "execution_count": 36,
   "metadata": {},
   "outputs": [
    {
     "name": "stdout",
     "output_type": "stream",
     "text": [
      "0.4983\n"
     ]
    }
   ],
   "source": [
    "print(min(b_history.history['accuracy']))"
   ]
  },
  {
   "cell_type": "code",
   "execution_count": 38,
   "metadata": {},
   "outputs": [
    {
     "data": {
      "image/png": "[encoded data removed]",
      "text/plain": [
       "<Figure size 1152x720 with 1 Axes>"
      ]
     },
     "metadata": {
      "needs_background": "light"
     },
     "output_type": "display_data"
    }
   ],
   "source": [
    "import matplotlib.pyplot as plt\n",
    "\n",
    "\n",
    "def plot_history(histories, key='accuracy'):\n",
    "    plt.figure(figsize=(16,10))\n",
    "    for name, history in histories:\n",
    "        val = plt.plot(history.epoch, history.history['val_'+key],\n",
    "                   '--', label=name.title()+' Val')\n",
    "    plt.plot(history.epoch, history.history[key], color=val[0].get_color(),\n",
    "             label=name.title()+' Train')\n",
    "\n",
    "    plt.xlabel('Epochs')\n",
    "    plt.ylabel(key.replace('_',' ').title())\n",
    "    plt.legend()\n",
    "\n",
    "    plt.xlim([0,max(history.epoch)])\n",
    "    plt.ylim([0,1])\n",
    "\n",
    "plot_history([('baseline', b_history)])"
   ]
  },
  {
   "cell_type": "code",
   "execution_count": null,
   "metadata": {},
   "outputs": [],
   "source": []
  },
  {
   "cell_type": "markdown",
   "metadata": {},
   "source": [
    "### Appendix"
   ]
  },
  {
   "cell_type": "code",
   "execution_count": null,
   "metadata": {},
   "outputs": [],
   "source": []
  },
  {
   "cell_type": "code",
   "execution_count": null,
   "metadata": {},
   "outputs": [],
   "source": [
    "def prepare_inputs(X_train, X_test):\n",
    "    \n",
    "    categorical = ['Epigastric pain ',\n",
    "       \"Fever\",\n",
    "       'Nausea/Vomting', \n",
    "       'Headache ', \n",
    "       'Diarrhea ', \n",
    "       'Jaundice ',]\n",
    "        \n",
    "    ohe = OneHotEncoder()\n",
    "    ohe.fit(X_train[categorical])\n",
    "    X_train_enc = ohe.transform(X_train[categorical])\n",
    "    X_test_enc = ohe.transform(X_test[categorical])\n",
    "    \n",
    "    return X_train_enc, X_test_enc"
   ]
  },
  {
   "cell_type": "code",
   "execution_count": 69,
   "metadata": {},
   "outputs": [],
   "source": [
    "def preprocess_features(data):\n",
    "    \"\"\"Prepares input features from concrete slump test data set.\n",
    "\n",
    "      Args:\n",
    "        concrete_dataframe: A Pandas DataFrame expected to contain data\n",
    "      from the concrete slump test dataset.\n",
    "      Returns:\n",
    "        A DataFrame that contains the features to be used for the model. \n",
    "      \"\"\"\n",
    "    \n",
    "    selected_features = data[['S_99HOL',\n",
    "                         'M_VAL99H',\n",
    "                         'S_00OFF',\n",
    "                         'S_IDX',\n",
    "                         'N_S_INDX',\n",
    "                         'TENURE']]\n",
    "   \n",
    "    processed_features = selected_features.copy()\n",
    "  \n",
    "    return processed_features\n",
    "\n",
    "def preprocess_targets(data):\n",
    "   \n",
    "    output_targets = data.iloc[:,0]\n",
    "    return output_targets"
   ]
  }
 ],
 "metadata": {
  "kernelspec": {
   "display_name": "Python 3",
   "language": "python",
   "name": "python3"
  },
  "language_info": {
   "codemirror_mode": {
    "name": "ipython",
    "version": 3
   },
   "file_extension": ".py",
   "mimetype": "text/x-python",
   "name": "python",
   "nbconvert_exporter": "python",
   "pygments_lexer": "ipython3",
   "version": "3.7.6"
  }
 },
 "nbformat": 4,
 "nbformat_minor": 4
}
